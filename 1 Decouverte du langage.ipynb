{
 "cells": [
  {
   "cell_type": "markdown",
   "metadata": {},
   "source": [
    "# Commande de base pour démarrer"
   ]
  },
  {
   "cell_type": "code",
   "execution_count": 1,
   "metadata": {},
   "outputs": [
    {
     "name": "stdout",
     "output_type": "stream",
     "text": [
      "Hello World !\n"
     ]
    }
   ],
   "source": [
    "print(\"Hello World !\")"
   ]
  },
  {
   "cell_type": "markdown",
   "metadata": {},
   "source": [
    "# Les attributions et créations de variables"
   ]
  },
  {
   "cell_type": "code",
   "execution_count": 2,
   "metadata": {},
   "outputs": [],
   "source": [
    "# Les noms de variable ne peuvent contenir que des lettres majuscules, minuscules et des chiffres."
   ]
  },
  {
   "cell_type": "code",
   "execution_count": 3,
   "metadata": {},
   "outputs": [],
   "source": [
    "ma_variable = \"string\"\n",
    "maVariable2 = 1\n",
    "milliers = 1000.0 # float\n",
    "MonInteger = int(milliers) # converti le float en int"
   ]
  },
  {
   "cell_type": "code",
   "execution_count": 4,
   "metadata": {},
   "outputs": [
    {
     "name": "stdout",
     "output_type": "stream",
     "text": [
      "1000.0\n",
      "1000.0\n",
      "1000\n"
     ]
    }
   ],
   "source": [
    "print(milliers) # affiche le nombre\n",
    "print(str(milliers)) # converti le float en string avant de l'afficher\n",
    "print(MonInteger)"
   ]
  },
  {
   "cell_type": "code",
   "execution_count": 5,
   "metadata": {},
   "outputs": [
    {
     "name": "stdin",
     "output_type": "stream",
     "text": [
      "Press the enter key to exit. 123\n"
     ]
    },
    {
     "name": "stdout",
     "output_type": "stream",
     "text": [
      "123\n"
     ]
    }
   ],
   "source": [
    "MaVariable = input(\"Press the enter key to exit.\") # récupère la saisie de l'utilisateur dans une variable\n",
    "print(MaVariable) # affiche ce que l'utilisateur a saisi"
   ]
  },
  {
   "cell_type": "markdown",
   "metadata": {},
   "source": [
    "# Listes, array, et tuples..."
   ]
  },
  {
   "cell_type": "code",
   "execution_count": 6,
   "metadata": {},
   "outputs": [
    {
     "name": "stdout",
     "output_type": "stream",
     "text": [
      "['et un', 'et deux', 'et trois', 'zéro']\n",
      "et un\n",
      "['et deux', 'et trois']\n",
      "['et trois', 'zéro']\n"
     ]
    }
   ],
   "source": [
    "MaListe = [\"et un\", \"et deux\", \"et trois\", \"zéro\"]\n",
    "print(MaListe) # affiche toute la liste\n",
    "print(MaListe[0]) # affiche le 1er élément de la liste\n",
    "print(MaListe[1:3]) # affiche les 2ème et 3ème éléments de la liste\n",
    "print(MaListe[2:]) # affiche tous les éléments de la liste, à partir de 3ème"
   ]
  },
  {
   "cell_type": "markdown",
   "metadata": {},
   "source": [
    "# Dictionnaires"
   ]
  },
  {
   "cell_type": "code",
   "execution_count": 7,
   "metadata": {},
   "outputs": [],
   "source": [
    "dict = {}\n",
    "dict['one'] = \"Élément 1\"\n",
    "dict[2] = \"Élément 2\""
   ]
  },
  {
   "cell_type": "code",
   "execution_count": 8,
   "metadata": {},
   "outputs": [
    {
     "name": "stdout",
     "output_type": "stream",
     "text": [
      "Élément 1\n",
      "dict_keys(['one', 2])\n",
      "dict_values(['Élément 1', 'Élément 2'])\n"
     ]
    }
   ],
   "source": [
    "print(dict[\"one\"]) # affiche l'élément \"one\" du dictionnaire\n",
    "print(dict.keys()) # affiche toutes les clés existantes dans le dictionnaire\n",
    "print(dict.values()) # affiche toutes les valeurs contenues dans le dictionnaire"
   ]
  },
  {
   "cell_type": "markdown",
   "metadata": {},
   "source": [
    "# Travail avec des fichiers"
   ]
  },
  {
   "cell_type": "code",
   "execution_count": 10,
   "metadata": {},
   "outputs": [
    {
     "name": "stdout",
     "output_type": "stream",
     "text": [
      "un\n",
      "\n",
      "k\n",
      "deux\n",
      "\n",
      "k\n",
      "trois\n",
      "k\n"
     ]
    }
   ],
   "source": [
    "mychar = 'a'\n",
    "mystring = \"balek\"\n",
    "contenu = open(\"maListe.txt\", \"r\")\n",
    "for ligne in contenu:\n",
    "    print(ligne)\n",
    "    print(mystring[4])"
   ]
  },
  {
   "cell_type": "code",
   "execution_count": null,
   "metadata": {},
   "outputs": [],
   "source": []
  },
  {
   "cell_type": "code",
   "execution_count": null,
   "metadata": {},
   "outputs": [],
   "source": []
  },
  {
   "cell_type": "code",
   "execution_count": 1,
   "metadata": {},
   "outputs": [
    {
     "name": "stdout",
     "output_type": "stream",
     "text": [
      "He's over nine thousaaaands !!\n"
     ]
    }
   ],
   "source": [
    "var = 9000\n",
    "if(var==1000): print(\"Value of expression is 100\")\n",
    "\n",
    "if(var<1200):\n",
    "    print(\"smicard !\")\n",
    "elif(var<9000):\n",
    "    print(\"average !\")\n",
    "else:\n",
    "    print(\"He's over nine thousaaaands !!\")"
   ]
  },
  {
   "cell_type": "code",
   "execution_count": null,
   "metadata": {},
   "outputs": [],
   "source": []
  }
 ],
 "metadata": {
  "kernelspec": {
   "display_name": "Python 3",
   "language": "python",
   "name": "python3"
  },
  "language_info": {
   "codemirror_mode": {
    "name": "ipython",
    "version": 3
   },
   "file_extension": ".py",
   "mimetype": "text/x-python",
   "name": "python",
   "nbconvert_exporter": "python",
   "pygments_lexer": "ipython3",
   "version": "3.8.5"
  }
 },
 "nbformat": 4,
 "nbformat_minor": 4
}
