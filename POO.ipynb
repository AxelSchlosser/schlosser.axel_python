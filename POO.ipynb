{
 "cells": [
  {
   "cell_type": "markdown",
   "metadata": {},
   "source": [
    "Les classes d'objet en python"
   ]
  },
  {
   "cell_type": "code",
   "execution_count": 10,
   "metadata": {},
   "outputs": [
    {
     "name": "stdout",
     "output_type": "stream",
     "text": [
      "15/08/1979\n",
      "FR\n",
      "Lesh mi ma hersh\n"
     ]
    }
   ],
   "source": [
    "class EtreHumain:\n",
    "    def __init__(self, dateNaissance):\n",
    "        self.DateNaissance = dateNaissance\n",
    "        \n",
    "    def show(self):\n",
    "        print(self.DateNaissance)\n",
    "        \n",
    "class Français(EtreHumain):\n",
    "    def SetNationality(self, nationality):\n",
    "        self.Nationality = nationality\n",
    "        \n",
    "class Alsacien(Français):\n",
    "    def SetLanguage(self, dialecte):\n",
    "        self.Dialecte = dialecte\n",
    "    \n",
    "Manu = Alsacien(\"15/08/1979\")\n",
    "Manu.show()\n",
    "Manu.SetNationality(\"FR\")\n",
    "Manu.SetLanguage(\"Lesh mi ma hersh\")\n",
    "print(Manu.Nationality)\n",
    "print(Manu.Dialecte)"
   ]
  },
  {
   "cell_type": "code",
   "execution_count": null,
   "metadata": {},
   "outputs": [],
   "source": []
  },
  {
   "cell_type": "code",
   "execution_count": null,
   "metadata": {},
   "outputs": [],
   "source": []
  }
 ],
 "metadata": {
  "kernelspec": {
   "display_name": "Python 3",
   "language": "python",
   "name": "python3"
  },
  "language_info": {
   "codemirror_mode": {
    "name": "ipython",
    "version": 3
   },
   "file_extension": ".py",
   "mimetype": "text/x-python",
   "name": "python",
   "nbconvert_exporter": "python",
   "pygments_lexer": "ipython3",
   "version": "3.8.5"
  }
 },
 "nbformat": 4,
 "nbformat_minor": 4
}
